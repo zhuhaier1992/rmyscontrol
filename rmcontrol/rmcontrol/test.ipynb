{
 "cells": [
  {
   "cell_type": "code",
   "execution_count": 1,
   "metadata": {},
   "outputs": [
    {
     "name": "stdout",
     "output_type": "stream",
     "text": [
      "[2 0 0] [1 0 0]\n",
      "[2 2 0] [1 1 0]\n",
      "<zip object at 0x7ff181272700>\n",
      "[[1 1 1]\n",
      " [2 2 0]]\n"
     ]
    }
   ],
   "source": [
    "import numpy as np\n",
    "from utils import *\n",
    "import time\n",
    "\n",
    "a=np.array([[2,0,0],[2,2,0]])\n",
    "b=np.array([[1,0,0],[1,1,0]])\n",
    "for i, j in zip(a,b):\n",
    "    print(i,j)\n",
    "print(zip(a,b))\n",
    "nparray_to_relative_pose2d(a, b)\n",
    "c=np.hstack((np.zeros([7,2])[0],1))\n",
    "a[0]=[1,1,1]\n",
    "print(a)"
   ]
  },
  {
   "cell_type": "code",
   "execution_count": 2,
   "metadata": {},
   "outputs": [
    {
     "data": {
      "text/plain": [
       "array([[-0.7       ,  0.        ,  0.        ],\n",
       "       [-1.5       , -1.        ,  0.        ],\n",
       "       [-1.3       ,  0.        ,  0.        ],\n",
       "       [-1.5       ,  1.        ,  0.        ],\n",
       "       [ 1.5       , -1.        ,  3.14159265],\n",
       "       [ 1.3       ,  0.        ,  3.14159265],\n",
       "       [ 1.5       ,  1.        ,  3.14159265]])"
      ]
     },
     "execution_count": 2,
     "metadata": {},
     "output_type": "execute_result"
    }
   ],
   "source": [
    "from utils import *\n",
    "import numpy as np\n",
    "\n",
    "\n",
    "target_poses=[Pose2D(x=-0.7, y=0., theta=0.),\n",
    "              Pose2D(x=-1.5, y=-1., theta=0.),\n",
    "              Pose2D(x=-1.3, y=0., theta=0.),\n",
    "              Pose2D(x=-1.5, y=1., theta=0.),\n",
    "              Pose2D(x=1.5, y=-1., theta=pi),\n",
    "              Pose2D(x=1.3, y=0., theta=pi),\n",
    "              Pose2D(x=1.5, y=1., theta=pi),]\n",
    "pose2d_to_nparray(target_poses)"
   ]
  },
  {
   "cell_type": "code",
   "execution_count": 3,
   "metadata": {},
   "outputs": [
    {
     "name": "stdout",
     "output_type": "stream",
     "text": [
      "p [[1 1 0]\n",
      " [1 2 0]\n",
      " [1 3 0]]\n",
      "[1 2 0] [1 1 0] [0 0 0]\n",
      "-2.00000000000000\n",
      "2.00000000000000\n",
      "--- 1 tmin p0 id\n",
      "2.00000000000000 [[1 1 0]\n",
      " [1 2 0]\n",
      " [1 3 0]] 1\n",
      "p [[1 1 0]\n",
      " [1 2 0]\n",
      " [1 3 0]]\n",
      "[1 3 0] [1 1 0] [0 0 0]\n",
      "-4.00000000000000\n",
      "4.00000000000000\n"
     ]
    },
    {
     "data": {
      "text/plain": [
       "(1, 2.00000000000000, array([1, 1, 0], dtype=object))"
      ]
     },
     "execution_count": 3,
     "metadata": {},
     "output_type": "execute_result"
    }
   ],
   "source": [
    "import numpy as np\n",
    "from numpy.linalg import norm\n",
    "import sympy as sp\n",
    "\n",
    "\n",
    "p=np.array([[1,1,0],[1,2,0],[1,3,0]])\n",
    "vb=np.array([0,0,0])\n",
    "\n",
    "def reach_time(pa, pb, vb, va_max=0.5):\n",
    "    '''\n",
    "    for agent from position pa with constant speed va to\n",
    "    reach ball from position pb with constant speed vb, \n",
    "    calculate the shortest time\n",
    "    '''\n",
    "    ba=pa-pb # vector b to a\n",
    "    t=sp.Symbol('t')\n",
    "    solutions=sp.nonlinsolve([(va_max**2-norm(vb)**2)*t**2 + 2*t*np.dot(ba, vb) - norm(ba)**2],[t])\n",
    "    t=1000\n",
    "    for s in solutions:\n",
    "        print(s[0])\n",
    "        if s[0]>0 and s[0]<t:\n",
    "            t=s[0]\n",
    "    # t=next(iter(solutions))[0]\n",
    "    p0=pb+vb*t\n",
    "    return t, p0\n",
    "\n",
    "def find_closest(p, vb):\n",
    "    '''\n",
    "    p: poses, ball at 0, 1~6 is robomaster\n",
    "    vb: ball velocity\n",
    "    '''\n",
    "    pb=p[0]\n",
    "    t_min=1000.\n",
    "    p0=np.array([0,0])\n",
    "    id=0\n",
    "    print('p',p)\n",
    "    for i in range(1, len(p)):\n",
    "        print(p[i], pb, vb)\n",
    "        t, p0=reach_time(p[i], pb, vb)\n",
    "        \n",
    "        if 0< t < t_min:\n",
    "            t_min, p0, id=t, p, i\n",
    "            print('---',i,'tmin p0 id')\n",
    "            print(t_min, p0, id)\n",
    "            print('p',p)\n",
    "        \n",
    "    return id, t_min, p0\n",
    "\n",
    "find_closest(p,vb)\n"
   ]
  },
  {
   "cell_type": "code",
   "execution_count": 4,
   "metadata": {},
   "outputs": [
    {
     "data": {
      "text/plain": [
       "'123'"
      ]
     },
     "execution_count": 4,
     "metadata": {},
     "output_type": "execute_result"
    }
   ],
   "source": [
    "import re\n",
    "a={}\n",
    "a[1]='s'\n",
    "a\n",
    "re.sub('\\D', '', str([1,2,3]))"
   ]
  },
  {
   "cell_type": "code",
   "execution_count": 6,
   "metadata": {},
   "outputs": [
    {
     "data": {
      "text/plain": [
       "7"
      ]
     },
     "execution_count": 6,
     "metadata": {},
     "output_type": "execute_result"
    }
   ],
   "source": [
    "tp=np.array([[-0.7       ,  0.        ,  0.        ],\n",
    "                [-1.5       , -1.2        ,  0.        ],\n",
    "                [-1.4       ,  0.        ,  0.        ],\n",
    "                [-1.5       ,  1.2        ,  0.        ],\n",
    "                [ 1.5       , -1.2        ,  pi],\n",
    "                [ 1.4       ,  0.        ,  pi],\n",
    "                [ 1.5       ,  1.2        ,  pi]])\n",
    "target_poses=tp.copy()\n",
    "team_a=[1,3,5]\n",
    "team_b=[4,2,6]\n",
    "for i in range(len(team_a)):\n",
    "    target_poses[team_a[i]]=tp[i]\n",
    "for i in range(len(team_b)):\n",
    "    target_poses[team_b[i]]=tp[i]"
   ]
  }
 ],
 "metadata": {
  "kernelspec": {
   "display_name": "Python 3",
   "language": "python",
   "name": "python3"
  },
  "language_info": {
   "codemirror_mode": {
    "name": "ipython",
    "version": 3
   },
   "file_extension": ".py",
   "mimetype": "text/x-python",
   "name": "python",
   "nbconvert_exporter": "python",
   "pygments_lexer": "ipython3",
   "version": "3.8.10"
  },
  "orig_nbformat": 4
 },
 "nbformat": 4,
 "nbformat_minor": 2
}
